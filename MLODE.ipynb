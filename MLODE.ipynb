{
 "cells": [
  {
   "cell_type": "markdown",
   "id": "81625152",
   "metadata": {},
   "source": [
    "##### Imports:"
   ]
  },
  {
   "cell_type": "code",
   "execution_count": 1,
   "id": "4042123d",
   "metadata": {},
   "outputs": [],
   "source": [
    "import torch\n",
    "import torch.nn as nn\n",
    "import torch.optim as optim\n",
    "# deep learning\n",
    "\n",
    "import numpy as np\n",
    "# linear algebra\n",
    "\n",
    "from scipy.integrate import solve_ivp\n",
    "# dataset generaion solver\n",
    "\n",
    "from torch.utils.data import Dataset, DataLoader\n",
    "from torch.utils.data import random_split\n",
    "# data handling"
   ]
  },
  {
   "cell_type": "markdown",
   "id": "6f724f54",
   "metadata": {},
   "source": [
    "#### Datset Generation (Synthetic But Correct as per SciPy)"
   ]
  },
  {
   "cell_type": "markdown",
   "id": "73b5688e",
   "metadata": {},
   "source": [
    "- Sample generation functions"
   ]
  },
  {
   "cell_type": "code",
   "execution_count": 2,
   "id": "8b90962c",
   "metadata": {},
   "outputs": [],
   "source": [
    "def generate_ode_params(n_samples=1000):\n",
    "    # generate coeffs a,b,c and y_0, for dy/dx = ax + by + c, initial condition y_0.\n",
    "\n",
    "    np.random.seed(42)\n",
    "    \n",
    "    params = []\n",
    "    for _ in range(n_samples):\n",
    "        a = np.random.uniform(-2, 2)\n",
    "        b = np.random.uniform(-2, 2)\n",
    "        c = np.random.uniform(-2, 2)\n",
    "        y0 = np.random.uniform(-2, 2)\n",
    "\n",
    "        # why (-2,2): numerical stability\n",
    "        # otherwise, solutions to the diff eqns may vary wildly which will cause\n",
    "        # problems in computing MSE loss.\n",
    "\n",
    "        # eg. if params: (a=0, b=10, c=0, y_0=1) dy/dx = 0x + 10y + 0\n",
    "        # solution: y = e^(10x), so as x -> infty, major changes\n",
    "\n",
    "        # LIMITATION: less generalizable to larger magnitude solutions\n",
    "        # neural net may not learn everything\n",
    "\n",
    "        params.append((a, b, c, y0))\n",
    "    return params\n",
    "\n",
    "\n",
    "def solve_ode(a, b, c, y0, x_span=(0, 5), num_points=50):\n",
    "\n",
    "    # solve dy/dx = ax + by + c with initial condition y_0 by enumeration\n",
    "\n",
    "    # essentially, numerically solving and \"plotting\" the continuous curve at 50 points, \n",
    "    # in the interval (0,5)\n",
    "\n",
    "    def ode_func(x, y):\n",
    "        return a*x + b*y + c\n",
    "\n",
    "    x_eval = np.linspace(x_span[0], x_span[1], num_points)\n",
    "    # 50 points of a curve between 0 to 5\n",
    "\n",
    "    sol = solve_ivp(ode_func, x_span, [y0], t_eval=x_eval, method='RK45')\n",
    "\n",
    "    # sol.y[0] == solution for y at x_eval\n",
    "    return x_eval, sol.y[0]\n"
   ]
  },
  {
   "cell_type": "markdown",
   "id": "c9236a73",
   "metadata": {},
   "source": [
    "- Verifying with an online solver for some random cases."
   ]
  },
  {
   "cell_type": "code",
   "execution_count": 3,
   "id": "381f503f",
   "metadata": {},
   "outputs": [
    {
     "name": "stdout",
     "output_type": "stream",
     "text": [
      "Params: ai = -0.50183952461055, bi = 1.8028572256396647, ci = 0.9279757672456204, y0i = 0.3946339367881464\n",
      "y(x) at x = 0 is 0.3946339367881464, at x = 5 is 6204.165121464221\n",
      "\n",
      "Params: ai = -1.375925438230254, bi = -1.3760219186551894, ci = -1.7676655513272022, y0i = 1.4647045830997407\n",
      "y(x) at x = 0 is 1.4647045830997407, at x = 5 is -5.555346137621467\n",
      "\n",
      "Params: ai = 0.4044600469728352, bi = 0.832290311184182, ci = -1.9176620228167902, y0i = 1.8796394086479773\n",
      "y(x) at x = 0 is 1.8796394086479773, at x = 5 is 9.515691220750707\n",
      "\n"
     ]
    }
   ],
   "source": [
    "synthetic_dataset_param_tuples = generate_ode_params(3)\n",
    "\n",
    "for ai, bi, ci, y0i in synthetic_dataset_param_tuples:\n",
    "    (x,y) = solve_ode(ai, bi, ci, y0i)\n",
    "    print(f\"Params: ai = {ai}, bi = {bi}, ci = {ci}, y0i = {y0i}\")\n",
    "    print(f\"y(x) at x = 0 is {y[0]}, at x = 5 is {y[-1]}\")\n",
    "    print()\n"
   ]
  },
  {
   "cell_type": "code",
   "execution_count": 4,
   "id": "6321206e",
   "metadata": {},
   "outputs": [],
   "source": [
    "class ODEDataset_Linear(torch.utils.data.Dataset):\n",
    "    def __init__(self, n_samples=1000, x_span=(0, 5), num_points=50):\n",
    "        self.x_eval = np.linspace(x_span[0], x_span[1], num_points)\n",
    "        self.samples = []\n",
    "        \n",
    "        params_list = generate_ode_params(n_samples)\n",
    "        for a, b, c, y0 in params_list:\n",
    "            _, y = solve_ode(a, b, c, y0, x_span, num_points)\n",
    "            \n",
    "            # store as (params, solution)\n",
    "            self.samples.append( (np.array([a, b, c, y0], dtype=np.float32), y.astype(np.float32)) )\n",
    "            # store the value of y for x = 5\n",
    "\n",
    "    def __len__(self):\n",
    "        return len(self.samples)\n",
    "    \n",
    "    def __getitem__(self, idx):\n",
    "        params, y = self.samples[idx]\n",
    "        return torch.from_numpy(params), torch.from_numpy(y)"
   ]
  },
  {
   "cell_type": "code",
   "execution_count": 5,
   "id": "f4bd60cd",
   "metadata": {},
   "outputs": [],
   "source": [
    "full_dataset = ODEDataset_Linear(n_samples=1000)\n",
    "\n",
    "# Split into 600 train + 100 validation + 300 Test (60/10/30 split)\n",
    "train_dataset, val_dataset, test_dataset = random_split(full_dataset, [0.6, 0.1, 0.3], generator = torch.Generator().manual_seed(42))\n",
    "\n",
    "# Create DataLoaders (batch size 32)\n",
    "train_loader = DataLoader(train_dataset, batch_size=32, shuffle=True)\n",
    "val_loader = DataLoader(val_dataset, batch_size=32)"
   ]
  },
  {
   "cell_type": "markdown",
   "id": "48c1548d",
   "metadata": {},
   "source": [
    "#### Model Architecture:"
   ]
  },
  {
   "cell_type": "markdown",
   "id": "9d8abb77",
   "metadata": {},
   "source": [
    "##### Hypernetwork\n",
    "Trains the weights for the solution network (up next)."
   ]
  },
  {
   "cell_type": "code",
   "execution_count": 6,
   "id": "b20590db",
   "metadata": {},
   "outputs": [],
   "source": [
    "class HyperNet(nn.Module):\n",
    "    def __init__(self, param_dim=4, hidden_dim=64, output_dim=25):\n",
    "        super().__init__()\n",
    "        self.net = nn.Sequential(\n",
    "            nn.Linear(param_dim, hidden_dim),\n",
    "            # hidden layer, 64 dim\n",
    "            nn.ReLU(),\n",
    "            # V\n",
    "\n",
    "            nn.Linear(hidden_dim, hidden_dim),\n",
    "            # hidden layer, 64 dim\n",
    "            nn.ReLU(),\n",
    "            # V\n",
    "\n",
    "            nn.Linear(hidden_dim, output_dim)\n",
    "            # V (taken into SolnNet)\n",
    "        )\n",
    "    \n",
    "    def forward(self, ode_params):\n",
    "        return self.net(ode_params)"
   ]
  },
  {
   "cell_type": "markdown",
   "id": "7f60a6e6",
   "metadata": {},
   "source": [
    "##### Solution Network\n",
    "Given trained weights from Hypernetwork, makes a predection with a single layer neural network."
   ]
  },
  {
   "cell_type": "code",
   "execution_count": 7,
   "id": "0da012f5",
   "metadata": {},
   "outputs": [],
   "source": [
    "class SolutionNet(nn.Module):\n",
    "    def forward(self, x, meta_params):\n",
    "\n",
    "        # pytorch tensor operations-\n",
    "        \n",
    "        w1 = meta_params[:, :16].view(-1, 4, 4)\n",
    "        # \n",
    "\n",
    "        b1 = meta_params[:, 16:20].view(-1, 4)    # Hidden layer bias\n",
    "        w2 = meta_params[:, 20:24].view(-1, 4, 1) # Output weights\n",
    "        b2 = meta_params[:, 24:25].view(-1, 1)    # Output bias\n",
    "    \n",
    "        x = x.unsqueeze(-1)  # [batch_size, num_points, 1]\n",
    "        h = torch.relu(torch.matmul(x, w1) + b1.unsqueeze(1))\n",
    "        return torch.matmul(h, w2) + b2.unsqueeze(1)\n"
   ]
  }
 ],
 "metadata": {
  "kernelspec": {
   "display_name": "Python 3",
   "language": "python",
   "name": "python3"
  },
  "language_info": {
   "codemirror_mode": {
    "name": "ipython",
    "version": 3
   },
   "file_extension": ".py",
   "mimetype": "text/x-python",
   "name": "python",
   "nbconvert_exporter": "python",
   "pygments_lexer": "ipython3",
   "version": "3.12.10"
  }
 },
 "nbformat": 4,
 "nbformat_minor": 5
}
