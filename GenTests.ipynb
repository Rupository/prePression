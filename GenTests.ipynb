{
 "cells": [
  {
   "cell_type": "markdown",
   "id": "adab5ebc",
   "metadata": {},
   "source": [
    "##### Imports:"
   ]
  },
  {
   "cell_type": "code",
   "execution_count": null,
   "id": "5c9b2083",
   "metadata": {},
   "outputs": [],
   "source": [
    "import torch\n",
    "import torch.nn as nn\n",
    "import torch.optim as optim\n",
    "# deep learning\n",
    "\n",
    "import numpy as np\n",
    "# linear algebra\n",
    "\n",
    "from scipy.integrate import solve_ivp\n",
    "# dataset generaion solver\n",
    "\n",
    "from torch.utils.data import DataLoader\n",
    "from torch.utils.data import random_split\n",
    "# data handling\n",
    "\n",
    "import matplotlib.pyplot as plt\n",
    "# plotting\n",
    "\n",
    "from tqdm import tqdm\n",
    "# progrees tracking"
   ]
  },
  {
   "cell_type": "markdown",
   "id": "a03af86d",
   "metadata": {},
   "source": [
    "#### Datset Generation (Synthetic But Correct as per SciPy)"
   ]
  },
  {
   "cell_type": "markdown",
   "id": "257f0056",
   "metadata": {},
   "source": [
    "- Sample generation functions"
   ]
  },
  {
   "cell_type": "code",
   "execution_count": null,
   "id": "81da85fa",
   "metadata": {},
   "outputs": [],
   "source": [
    "def generate_ode_params(n_samples=1000):\n",
    "    # generate coeffs a,b,c and y_0, for dy/dx = ax + by + c, initial condition y_0.\n",
    "\n",
    "    np.random.seed(42)\n",
    "    \n",
    "    params = []\n",
    "    for _ in range(n_samples):\n",
    "\n",
    "        '''a = np.random.uniform(-2, 2)\n",
    "        b = np.random.uniform(-2, 2)\n",
    "        c = np.random.uniform(-2, 2)\n",
    "        y0 = np.random.uniform(-2, 2)'''\n",
    "\n",
    "        while True:\n",
    "            a = np.random.uniform(-2, 2)\n",
    "            b = np.random.uniform(-5, -0.5)  # force exponential decay\n",
    "            c = np.random.uniform(-2, 2)\n",
    "            y0 = np.random.uniform(-10, 10)\n",
    "            # Solve and check stability\n",
    "            _, y = solve_ode(a, b, c, y0)\n",
    "            if np.max(np.abs(y)) < 1000:  # Reject explosive solutions\n",
    "                break\n",
    "\n",
    "        # why (-2,2): numerical stability\n",
    "        # otherwise, solutions to the diff eqns may vary wildly which will cause\n",
    "        # problems in computing MSE loss.\n",
    "\n",
    "        # eg. if params: (a=0, b=10, c=0, y_0=1) dy/dx = 0x + 10y + 0\n",
    "        # solution: y = e^(10x), so as x -> infty, major changes\n",
    "\n",
    "        # LIMITATION: less generalizable to larger magnitude solutions\n",
    "        # neural net may not learn everything\n",
    "\n",
    "        params.append((a, b, c, y0))\n",
    "    return params\n",
    "\n",
    "\n",
    "def solve_ode(a, b, c, y0, x_span=(0, 5), num_points=50):\n",
    "\n",
    "    # solve dy/dx = ax + by + c with initial condition y_0 by enumeration\n",
    "\n",
    "    # essentially, numerically solving and \"plotting\" the continuous curve at 50 points, \n",
    "    # in the interval (0,5)\n",
    "\n",
    "    def ode_func(x, y):\n",
    "        return a*x + b*y + c\n",
    "\n",
    "    x_eval = np.linspace(x_span[0], x_span[1], num_points)\n",
    "    # 50 points of a curve between 0 to 5\n",
    "\n",
    "    sol = solve_ivp(ode_func, x_span, [y0], t_eval=x_eval, method='RK45')\n",
    "\n",
    "    # sol.y[0] == solution for y at x_eval\n",
    "    return x_eval, sol.y[0]\n"
   ]
  }
 ],
 "metadata": {
  "kernelspec": {
   "display_name": "Python 3",
   "language": "python",
   "name": "python3"
  },
  "language_info": {
   "name": "python",
   "version": "3.12.10"
  }
 },
 "nbformat": 4,
 "nbformat_minor": 5
}
