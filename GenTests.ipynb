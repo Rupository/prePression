{
 "cells": [
  {
   "cell_type": "markdown",
   "id": "adab5ebc",
   "metadata": {},
   "source": [
    "##### Imports:"
   ]
  },
  {
   "cell_type": "code",
   "execution_count": 70,
   "id": "5c9b2083",
   "metadata": {},
   "outputs": [],
   "source": [
    "import torch\n",
    "import torch.nn as nn\n",
    "# deep learning\n",
    "\n",
    "import numpy as np\n",
    "# linear algebra\n",
    "\n",
    "from scipy.integrate import solve_ivp\n",
    "# dataset generaion solver\n",
    "\n",
    "from torch.utils.data import DataLoader\n",
    "# data handling\n",
    "\n",
    "import matplotlib.pyplot as plt\n",
    "# plotting\n",
    "\n",
    "from tqdm import tqdm\n",
    "# progrees tracking"
   ]
  },
  {
   "cell_type": "markdown",
   "id": "a03af86d",
   "metadata": {},
   "source": [
    "#### Datset Generation (Synthetic But Correct as per SciPy)"
   ]
  },
  {
   "cell_type": "code",
   "execution_count": 71,
   "id": "81da85fa",
   "metadata": {},
   "outputs": [],
   "source": [
    "def generate_ode_params(bound, n_samples=1000):\n",
    "    # generate coeffs a,b,c and y_0, for dy/dx = ax + by + c, initial condition y_0.\n",
    "\n",
    "    np.random.seed(42)\n",
    "    \n",
    "    params = []\n",
    "    for _ in range(n_samples):\n",
    "\n",
    "        a = np.random.uniform(-bound, bound)\n",
    "        b = np.random.uniform(-bound, -bound)\n",
    "        c = np.random.uniform(-bound, bound)\n",
    "        y0 = np.random.uniform(-bound, bound)\n",
    "\n",
    "        params.append((a, b, c, y0))\n",
    "        \n",
    "    return params\n",
    "\n",
    "\n",
    "def solve_ode(a, b, c, y0, x_span=(0, 5), num_points=50):\n",
    "\n",
    "    # solve dy/dx = ax + by + c with initial condition y_0 by enumeration\n",
    "\n",
    "    # essentially, numerically solving and \"plotting\" the continuous curve at 50 points, \n",
    "    # in the interval (0,5)\n",
    "\n",
    "    def ode_func(x, y):\n",
    "        return a*x + b*y + c\n",
    "\n",
    "    x_eval = np.linspace(x_span[0], x_span[1], num_points)\n",
    "    # 50 points of a curve between 0 to 5\n",
    "\n",
    "    sol = solve_ivp(ode_func, x_span, [y0], t_eval=x_eval, method='RK45')\n",
    "\n",
    "    # sol.y[0] == solution for y at x_eval\n",
    "    return x_eval, sol.y[0]\n"
   ]
  },
  {
   "cell_type": "code",
   "execution_count": 72,
   "id": "00677a44",
   "metadata": {},
   "outputs": [],
   "source": [
    "class ODEDataset_Linear(torch.utils.data.Dataset):\n",
    "    def __init__(self, bound=0.25, n_samples=1000, x_span=(0, 5), num_points=50):\n",
    "        self.x_eval = np.linspace(x_span[0], x_span[1], num_points)\n",
    "        self.samples = []\n",
    "        \n",
    "        params_list = generate_ode_params(bound, n_samples)\n",
    "        for a, b, c, y0 in params_list:\n",
    "            _, y = solve_ode(a, b, c, y0, x_span, num_points)\n",
    "            \n",
    "            # store as (params, solution)\n",
    "            self.samples.append( (np.array([a, b, c, y0], dtype=np.float32), y.astype(np.float32)) )\n",
    "            # store the value of y for x = 5\n",
    "\n",
    "    def __len__(self):\n",
    "        return len(self.samples)\n",
    "    \n",
    "    def __getitem__(self, idx):\n",
    "        params, y = self.samples[idx]\n",
    "        return torch.from_numpy(params), torch.from_numpy(y)"
   ]
  },
  {
   "cell_type": "markdown",
   "id": "9dff4a1d",
   "metadata": {},
   "source": [
    "##### Loading Model Architecture:"
   ]
  },
  {
   "cell_type": "markdown",
   "id": "6a072875",
   "metadata": {},
   "source": [
    "##### Hypernetwork\n",
    "Trains the weights for the solution network (up next)."
   ]
  },
  {
   "cell_type": "code",
   "execution_count": 106,
   "id": "b43d744b",
   "metadata": {},
   "outputs": [],
   "source": [
    "class HyperNet(nn.Module):\n",
    "    def __init__(self, param_dim=4, hidden_dim=128, output_dim=49):\n",
    "        super().__init__()\n",
    "        self.net = nn.Sequential(\n",
    "            nn.Linear(param_dim, hidden_dim),\n",
    "            # hidden layer, 64 dim\n",
    "            nn.ReLU(),\n",
    "            # V\n",
    "\n",
    "            nn.Linear(hidden_dim, hidden_dim),\n",
    "            # hidden layer, 64 dim\n",
    "            nn.ReLU(),\n",
    "            # V\n",
    "\n",
    "            nn.Linear(hidden_dim, output_dim)\n",
    "            # V (taken into SolnNet)\n",
    "        )\n",
    "    \n",
    "    def forward(self, ode_params):\n",
    "        return self.net(ode_params)"
   ]
  },
  {
   "cell_type": "markdown",
   "id": "0caeb6e2",
   "metadata": {},
   "source": [
    "##### Solution Network\n",
    "Given trained weights from Hypernetwork, makes a predection with a single layer neural network."
   ]
  },
  {
   "cell_type": "code",
   "execution_count": 107,
   "id": "e7bc7949",
   "metadata": {},
   "outputs": [],
   "source": [
    "class SolutionNet(nn.Module):\n",
    "    def forward(self, x, meta_params):\n",
    "\n",
    "        # pytorch tensor operations-\n",
    "\n",
    "        # meta_params - tensor of shape [batch_size, 25]\n",
    "        \n",
    "\n",
    "        # eg. hidden layer weight\n",
    "        w1 = meta_params[:, :32].view(-1, 4, 8)\n",
    "        # 1.  meta_params[:, (<- slice which takes from each batch,)  :16] <- 16 elements\n",
    "        # 2. reshapes to tensor of shape [batch_size, 4, 4] \n",
    "\n",
    "        # eg. hidden layer bias\n",
    "        b1 = meta_params[:, 32:40].view(-1, 8) \n",
    "        # 1.  meta_params[:, (<- slice which takes from each batch,)  16:20] <- elements 16 through 20-1 = 19\n",
    "        # 2. reshapes to tensor of shape [batch_size, 4]\n",
    "\n",
    "        # similarly,\n",
    "        w2 = meta_params[:, 40:48].view(-1, 8, 1) # output layer weights\n",
    "    \n",
    "        b2 = meta_params[:, 48:49].view(-1, 1)    # output layer bias\n",
    "    \n",
    "        x = x.unsqueeze(-1).expand(-1, -1, 4)\n",
    "        # Reshape: [batch, num_points] -> [batch, num_points, 1]\n",
    "\n",
    "        h = torch.relu(torch.matmul(x, w1) + b1.unsqueeze(1))\n",
    "        # b1.unsqueeze(1): [batch, 1, 4] 4 == num of hidden layers \n",
    "\n",
    "        # Compute (x @ w1) + b1,\n",
    "        ## x: [batch, num_points, 1]\n",
    "        # w1: [batch, 1, 4]\n",
    "        # o/p: [batch, num_points, 4]\n",
    "\n",
    "        return torch.matmul(h, w2) + b2.unsqueeze(1)\n",
    "        # b2.unsqueeze(1): [batch, num_points]\n",
    "\n",
    "        # Compute:(h @ w2) + b2\n",
    "        # h: [batch, num_points, 4]\n",
    "        # w2: [batch, 4, 1]\n",
    "        # o/p: [batch, num_points, 1]\n"
   ]
  },
  {
   "cell_type": "markdown",
   "id": "645e1922",
   "metadata": {},
   "source": [
    "##### Extract pretrained model"
   ]
  },
  {
   "cell_type": "markdown",
   "id": "48e69dba",
   "metadata": {},
   "source": [
    "Load from the saved models in the directory"
   ]
  },
  {
   "cell_type": "code",
   "execution_count": 116,
   "id": "ad37b5b3",
   "metadata": {},
   "outputs": [
    {
     "name": "stdout",
     "output_type": "stream",
     "text": [
      "NVIDIA GeForce RTX 3050 Laptop GPU\n",
      "Ready\n"
     ]
    }
   ],
   "source": [
    "device = torch.device('cuda' if torch.cuda.is_available() else 'cpu')\n",
    "print(torch.cuda.get_device_name())\n",
    "\n",
    "checkpoint = torch.load('MeL-ODE_tuned.pt', map_location=device)\n",
    "\n",
    "hyper_net = HyperNet(param_dim=4, hidden_dim=128, output_dim=49)\n",
    "solution_net = SolutionNet()\n",
    "\n",
    "hyper_net.to(device)\n",
    "solution_net.to(device)\n",
    "\n",
    "hyper_net.load_state_dict(checkpoint['hyper_param_net'])\n",
    "solution_net.load_state_dict(checkpoint['solution_net'])\n",
    "\n",
    "hyper_net.eval()\n",
    "solution_net.eval()\n",
    "\n",
    "print(\"Ready\")"
   ]
  },
  {
   "cell_type": "markdown",
   "id": "0de5e2cb",
   "metadata": {},
   "source": [
    "##### Setting limits for generalization:\n",
    "- We want to see how the trained model performs over different ranges of coefficients.\n",
    "- For this, we increase our coefficient bounds from the initial $(-0.25,0.25)$ to $(-5,5)$ over a loop, and measure the loss."
   ]
  },
  {
   "cell_type": "code",
   "execution_count": 117,
   "id": "4e922e51",
   "metadata": {},
   "outputs": [],
   "source": [
    "b = 0.25\n",
    "\n",
    "loss_fn = nn.MSELoss()\n",
    "\n",
    "test_losses = []\n",
    "\n",
    "avg_test_loss = 0\n",
    "\n",
    "iters = 0\n",
    "\n",
    "while avg_test_loss < 1:\n",
    "\n",
    "    test_loss = 0.0\n",
    "    gen_test_dataset = ODEDataset_Linear(bound=b, n_samples=1000)\n",
    "    gen_test_loader = DataLoader(gen_test_dataset, batch_size=32)\n",
    "\n",
    "    with torch.no_grad():\n",
    "        for ode_params, y_true in gen_test_loader:\n",
    "            ode_params = ode_params.to(device)\n",
    "            y_true = y_true.to(device)\n",
    "            \n",
    "            meta_params = hyper_net(ode_params)\n",
    "            # get meta parameters from coeffs\n",
    "            x_points = torch.linspace(0, 5, y_true.shape[1], device=device).repeat(ode_params.shape[0], 1)\n",
    "\n",
    "            y_pred = solution_net(x_points, meta_params).squeeze(-1)\n",
    "            # get solutions from meta parameters and coeffs\n",
    "            \n",
    "            test_loss += loss_fn(y_pred, y_true).item() * ode_params.size(0)\n",
    "\n",
    "    avg_test_loss = test_loss / len(gen_test_loader.dataset)\n",
    "\n",
    "    #print(avg_test_loss)\n",
    "    test_losses.append(avg_test_loss)\n",
    "\n",
    "    b += 0.25\n",
    "    iters += 1\n",
    "    "
   ]
  },
  {
   "cell_type": "code",
   "execution_count": 118,
   "id": "872aaab8",
   "metadata": {},
   "outputs": [
    {
     "data": {
      "image/png": "[encoded data removed]",
      "text/plain": [
       "<Figure size 640x480 with 1 Axes>"
      ]
     },
     "metadata": {},
     "output_type": "display_data"
    }
   ],
   "source": [
    "maxbound =  iters*0.25 + 0.25\n",
    "\n",
    "plt.plot(np.arange(0.25, maxbound, 0.25), test_losses)\n",
    "plt.title(\"Losses Over Increasing OOD (Out of Distibution) Range\")\n",
    "plt.xlabel(\"Range Increments\")\n",
    "plt.ylabel(\"Loss\")\n",
    "plt.show()"
   ]
  }
 ],
 "metadata": {
  "kernelspec": {
   "display_name": "Python 3",
   "language": "python",
   "name": "python3"
  },
  "language_info": {
   "codemirror_mode": {
    "name": "ipython",
    "version": 3
   },
   "file_extension": ".py",
   "mimetype": "text/x-python",
   "name": "python",
   "nbconvert_exporter": "python",
   "pygments_lexer": "ipython3",
   "version": "3.12.10"
  }
 },
 "nbformat": 4,
 "nbformat_minor": 5
}
